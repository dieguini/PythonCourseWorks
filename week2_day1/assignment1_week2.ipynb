{
 "cells": [
  {
   "cell_type": "markdown",
   "metadata": {},
   "source": [
    "**Week 2 - Assigment 1**"
   ]
  },
  {
   "cell_type": "code",
   "execution_count": null,
   "metadata": {},
   "outputs": [],
   "source": [
    "## join array elements\n",
    "\n",
    "grades1 = [10, 20, 40, 67.7]\n",
    "grades2 = [100, 25.0, 40.5, 6.7]\n",
    "expected_result = [10, 20, 40, 67.7, 100, 25.0, 40.5, 6.7]\n",
    "result = grades1 + grades2\n",
    "\n",
    "assert result == expected_result, f\"actual result {result} does not match expected result {expected_result}\"\n",
    "print(result)"
   ]
  },
  {
   "cell_type": "code",
   "execution_count": 26,
   "metadata": {},
   "outputs": [
    {
     "name": "stdout",
     "output_type": "stream",
     "text": [
      "[110, 45.0, 80.5, 74.4]\n"
     ]
    }
   ],
   "source": [
    "## sum array elements\n",
    "\n",
    "grades1 = [10, 20, 40, 67.7]\n",
    "grades2 = [100, 25.0, 40.5, 6.7]\n",
    "expected_result = [110, 45.0, 80.5, 74.4]\n",
    "\n",
    "### First aproach\n",
    "result = []\n",
    "for i1, g1 in enumerate(grades1):\n",
    "    result.append(g1+grades2[i1])\n",
    "\n",
    "### Second aproach\n",
    "result = []\n",
    "for g1, g2 in zip(grades1, grades2):\n",
    "    result.append(g1+g2)\n",
    "\n",
    "### Third aproach\n",
    "result = [grades1[i]+grades2[i] for i in range(len(grades1))]\n",
    "\n",
    "### Fourth aproach\n",
    "result = [ g1+g2 for g1, g2 in zip(grades1,grades2) ]\n",
    "\n",
    "assert result == expected_result, f\"actual result {result} does not match expected result {expected_result}\"\n",
    "print(result)"
   ]
  },
  {
   "cell_type": "code",
   "execution_count": 34,
   "metadata": {},
   "outputs": [
    {
     "name": "stdout",
     "output_type": "stream",
     "text": [
      "[-17.77777777777778, -23.333333333333332, -20.555555555555557, -26.11111111111111, -17.77777777777778]\n"
     ]
    }
   ],
   "source": [
    "# With arithmetic manipulation, we can convert current data to the way we want it to be. \n",
    "# Here's a real-world problem I face - I moved down to the United States about 6 years ago from Canada. \n",
    "# In Canada we use celciu for temperatures, and most of the time it has to be converted to the US system which uses farenheit. \n",
    "# Convert a number of farenheit values, say the weather forecase, to celcius\n",
    "# And the formula for conversion is ((°F − 32) × 5/9 = °C)\n",
    "farenheit = [0,-10,-5,-15,0]\n",
    "celcius = [ ((f-32) * 5/9) for f in farenheit ]\n",
    "#expected_celcius = [-17.22222222222222, -22.77777777777778, -20.0, -25.555555555555557, -17.22222222222222]\n",
    "expected_celcius = [-17.77777777777778, -23.333333333333332, -20.555555555555557, -26.11111111111111, -17.77777777777778]\n",
    "print(celcius)\n",
    "assert celcius == expected_celcius, f\"actual result {celcius} does not match expected result {expected_celcius}\"\n",
    "\n",
    "# Now, create an array with random values of typical `Ann Arbor winter` farenheit values with sample_size specified by the user\n",
    "# then convert its values to celcius\n",
    "# result list must not contain duplicates, and celcius numbers must be floating point with 3 decimal places\n",
    "celcius = []\n",
    "expected_celcius = []\n"
   ]
  },
  {
   "cell_type": "code",
   "execution_count": null,
   "metadata": {},
   "outputs": [],
   "source": [
    "## Now, we want to get a boolean array to check celcius degrees that are greater than -20 degrees\n",
    "\n",
    "farenheit = [0,-10,-5,-15,0]\n",
    "celcius_gt_20 = []\n",
    "expected_celcius_gt_20 = [False, True, False, True, False]\n",
    "assert celcius_gt_20 == expected_celcius_gt_20, f\"actual result {celcius_gt_20} does not match expected result {expected_celcius_gt_20}\"\n"
   ]
  },
  {
   "cell_type": "code",
   "execution_count": null,
   "metadata": {},
   "outputs": [],
   "source": [
    "## Now, we want to get a boolean array to check celcius degrees that are greater than -20 degrees\n",
    "\n",
    "farenheit = [0,-10,-5,-15,0]\n",
    "celcius_gt_20 = []\n",
    "expected_celcius_gt_20 = [False, True, False, True, False]\n",
    "assert celcius_gt_20 == expected_celcius_gt_20, f\"actual result {celcius_gt_20} does not match expected result {expected_celcius_gt_20}\"\n"
   ]
  },
  {
   "cell_type": "code",
   "execution_count": 1,
   "metadata": {},
   "outputs": [
    {
     "name": "stdout",
     "output_type": "stream",
     "text": [
      "[1970, 1972, 1974, 1976, 1978, 1980, 1982, 1984, 1986, 1988, 1990, 1992, 1994, 1996, 1998, 2000, 2002, 2004, 2006, 2008, 2010, 2012, 2014, 2016, 2018, 2020, 2022]\n"
     ]
    }
   ],
   "source": [
    "## We've held music festivals, every other year since 1970 until now - 2022. \n",
    "# How would we list the years?\n",
    "\n",
    "years = list(range(1970,2023,2))\n",
    "print(years)\n",
    "\n"
   ]
  },
  {
   "cell_type": "code",
   "execution_count": 2,
   "metadata": {},
   "outputs": [
    {
     "name": "stdout",
     "output_type": "stream",
     "text": [
      "13\n",
      "53\n",
      "26\n",
      "15\n",
      "19\n"
     ]
    },
    {
     "data": {
      "text/plain": [
       "[39, 9, 32, 39, 53]"
      ]
     },
     "execution_count": 2,
     "metadata": {},
     "output_type": "execute_result"
    }
   ],
   "source": [
    "## A fortune-teller robot generate random lotto ticket suggestions for its customers. \n",
    "## How would you help the ronot pick five random numbers between 1 and 53.\n",
    "\n",
    "import random\n",
    "\n",
    "# Primera solucion\n",
    "for num in range(5):\n",
    "    value = random.randint(1,53)\n",
    "    print(value)\n",
    "\n",
    "# Segunda solucion\n",
    "[random.randint(1,53) for num in range(5)]"
   ]
  },
  {
   "cell_type": "code",
   "execution_count": 39,
   "metadata": {},
   "outputs": [
    {
     "name": "stdout",
     "output_type": "stream",
     "text": [
      "item 1: $0.50\n",
      "item 2: $1.50\n",
      "item 3: $2.50\n"
     ]
    }
   ],
   "source": [
    "## Print this menu prices in the following format\n",
    "##  item 1: $0.50\n",
    "##  item 2: $1.50\n",
    "##  item 3: $2.50\n",
    "menu_prices  = {\n",
    "    'item 1': 0.50,\n",
    "    'item 2': 1.50,\n",
    "    'item 3': 2.50\n",
    "}\n",
    "for item, price in menu_prices.items():\n",
    "    print(item,': $',format(price,'.2f'),sep='')"
   ]
  },
  {
   "cell_type": "code",
   "execution_count": 3,
   "metadata": {},
   "outputs": [
    {
     "name": "stdout",
     "output_type": "stream",
     "text": [
      "\n",
      "REALICE LA ORDEN - MENU\n",
      "***********************\n",
      "1 => item 1: $0.50\n",
      "2 => item 2: $1.50\n",
      "3 => item 3: $2.50\n",
      "\n",
      "{'item 1': 0.5}\n",
      "Your order is [{'item 1': 0.5}]\n",
      "{'item 2': 1.5}\n",
      "Your order is [{'item 1': 0.5}, {'item 2': 1.5}]\n",
      "{'item 3': 2.5}\n",
      "Your order is [{'item 1': 0.5}, {'item 2': 1.5}, {'item 3': 2.5}]\n"
     ]
    }
   ],
   "source": [
    "## Create an console interface for ordering from a menu, \n",
    "## it will let customers order and add as many menu items as they want\n",
    "from os import sep\n",
    "\n",
    "menu = {\n",
    "    1: {\n",
    "        'item 1': 0.50\n",
    "    },\n",
    "    2: {\n",
    "        'item 2': 1.50\n",
    "    },\n",
    "    3: {\n",
    "        'item 3': 2.50\n",
    "    }\n",
    "}\n",
    "\n",
    "orders = []\n",
    "text_order = \"\"\"\n",
    "MENU - PLACE THE ORDER\n",
    "***********************\n",
    "\"\"\"\n",
    "for key, menu_prices in menu.items():\n",
    "    for item, price in menu_prices.items():\n",
    "        text_order += f\"\"\"{key} => {item}: ${format(price,'.2f')}\\n\"\"\"\n",
    "        #print(key,' => ',item,': $',format(price,'.2f'),sep='')\n",
    "# Add the user what they want to order as: what would you like to order? (Q to quit)\n",
    "print(text_order)\n",
    "# while the order is not equal for Q for quit, find the order and add it to the list if it exists\n",
    "order_input = input('what would you like to order? (Q to quit)\\n')\n",
    "while order_input != 'Q':\n",
    "    order = int(order_input)\n",
    "    if order in list(menu.keys()):\n",
    "        menu_option = menu[int(order_input)]\n",
    "        orders.append(menu_option)\n",
    "        print('Your order is', orders)\n",
    "    else:\n",
    "        # else let the customer know that the `Menu item does not exist`    \n",
    "        print('Menu item does not exist')\n",
    "    \n",
    "    # See if the customer wants to order anything else `Anything else? (Q to Quit)`\n",
    "    order_input = input('Anything else? (Q to Quit)')\n",
    "\n"
   ]
  },
  {
   "cell_type": "code",
   "execution_count": 4,
   "metadata": {},
   "outputs": [
    {
     "name": "stdout",
     "output_type": "stream",
     "text": [
      "\n",
      "MENU - PLACE THE ORDER\n",
      "***********************\n",
      "1 => item 1: $0.50\n",
      "2 => item 2: $1.50\n",
      "3 => item 3: $2.50\n",
      "4 => Cheese sticks: $10.50\n",
      "\n",
      "We're all out of that!\n",
      "Your order is [{'item 1': 0.5}]\n"
     ]
    }
   ],
   "source": [
    "## We have a problem, we run out of `Cheese sticks` in the menu, we'll need to let the customer know\n",
    "## if the order is `Cheese sticks` print `We're all out of that!` and skip the rest of the code\n",
    "\n",
    "from os import sep\n",
    "\n",
    "menu = {\n",
    "    1: {\n",
    "        'item 1': 0.50\n",
    "    },\n",
    "    2: {\n",
    "        'item 2': 1.50\n",
    "    },\n",
    "    3: {\n",
    "        'item 3': 2.50\n",
    "    },\n",
    "    4: {\n",
    "        'Cheese sticks': 10.50\n",
    "    }\n",
    "}\n",
    "\n",
    "orders = []\n",
    "text_order = \"\"\"\n",
    "MENU - PLACE THE ORDER\n",
    "***********************\n",
    "\"\"\"\n",
    "for key, menu_prices in menu.items():\n",
    "    for item, price in menu_prices.items():\n",
    "        text_order += f\"\"\"{key} => {item}: ${format(price,'.2f')}\\n\"\"\"\n",
    "print(text_order)\n",
    "\n",
    "order_input = input('what would you like to order? (Q to quit)\\n')\n",
    "while order_input != 'Q':\n",
    "    order = int(order_input)\n",
    "    if order in list(menu.keys()):\n",
    "        if order == 4:\n",
    "            print(\"We're all out of that!\")\n",
    "        else:\n",
    "            menu_option = menu[int(order_input)]\n",
    "            orders.append(menu_option)\n",
    "            print('Your order is', orders)\n",
    "    else:\n",
    "        print('Menu item does not exist')\n",
    "    \n",
    "    order_input = input('Anything else? (Q to Quit)')"
   ]
  },
  {
   "cell_type": "code",
   "execution_count": 10,
   "metadata": {},
   "outputs": [
    {
     "name": "stdout",
     "output_type": "stream",
     "text": [
      "You loose! \n",
      "Random number:  9 \n",
      "Your number:  4\n"
     ]
    }
   ],
   "source": [
    "## We want to create a \"guess the number\" game for our fortune-teller robot. \n",
    "## If you guess the random number between 1 and 10, you win a crystal ball!\n",
    "\n",
    "# There is some code that's been written for us \n",
    "# -- getting the random number the user needs to guess, \n",
    "# asking the user to guess a number, and printing 'You win!' if they win. \n",
    "# We need to write the code to compare the users response to num.\n",
    "import random\n",
    "\n",
    "num = random.randint(1, 10)\n",
    "\n",
    "guess = int(input('Guess a number between 1 and 10'))\n",
    "if num == guess:\n",
    "    print('You win!\\n','\\nRandom number: ',num,'\\nYour number: ',guess)\n",
    "else:\n",
    "    print('You loose!\\n','\\nRandom number: ',num,'\\nYour number: ',guess)"
   ]
  },
  {
   "cell_type": "code",
   "execution_count": 13,
   "metadata": {},
   "outputs": [
    {
     "name": "stdout",
     "output_type": "stream",
     "text": [
      "You loose!\n",
      " \n",
      "Random number:  1 \n",
      "Your number:  2\n",
      "\n",
      "------------\n",
      "\n",
      "You loose!\n",
      " \n",
      "Random number:  7 \n",
      "Your number:  3\n",
      "\n",
      "------------\n",
      "\n",
      "You loose!\n",
      " \n",
      "Random number:  10 \n",
      "Your number:  8\n",
      "\n",
      "------------\n",
      "\n"
     ]
    }
   ],
   "source": [
    "## Now our fortune-teller robot has a guess the number game — if you guess the random number between 1 and 10, \n",
    "# you win a crystal ball! \n",
    "## But the game lets the user guess 10 times, so they always win... #fail. \n",
    "## Let's fix the game so they can only guess three times.\n",
    "## After the while loop ends, check if guess is equal to num, then print 'You win!'. \n",
    "# Otherwise, print 'You lose! The number was ' and also print num.\n",
    "import random\n",
    "\n",
    "GAME_GUESS_COUNT = 3\n",
    "aux_guess_count = 0\n",
    "\n",
    "while aux_guess_count < GAME_GUESS_COUNT:\n",
    "    num = random.randint(1, 10)\n",
    "    guess = int(input('Guess a number between 1 and 10'))\n",
    "    if num == guess:\n",
    "        print('You win!\\n','\\nRandom number: ',num,'\\nYour number: ',guess)\n",
    "    else:\n",
    "        print('You loose!\\n','\\nRandom number: ',num,'\\nYour number: ',guess)\n",
    "    print('\\n------------\\n')\n",
    "    aux_guess_count+=1"
   ]
  }
 ],
 "metadata": {
  "kernelspec": {
   "display_name": "Python 3.9.13 64-bit (microsoft store)",
   "language": "python",
   "name": "python3"
  },
  "language_info": {
   "codemirror_mode": {
    "name": "ipython",
    "version": 3
   },
   "file_extension": ".py",
   "mimetype": "text/x-python",
   "name": "python",
   "nbconvert_exporter": "python",
   "pygments_lexer": "ipython3",
   "version": "3.9.13"
  },
  "orig_nbformat": 4,
  "vscode": {
   "interpreter": {
    "hash": "e5e6950e623d4582d624e135a1184e8efadbec668f85cbea1d2eb28257370c61"
   }
  }
 },
 "nbformat": 4,
 "nbformat_minor": 2
}
