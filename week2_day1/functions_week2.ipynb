{
 "cells": [
  {
   "cell_type": "markdown",
   "metadata": {},
   "source": [
    "**Week 2 - Functions**"
   ]
  },
  {
   "cell_type": "code",
   "execution_count": null,
   "metadata": {},
   "outputs": [],
   "source": [
    "# calculate the average price\n",
    "total = 0\n",
    "prices = [2.50, 5, 6, 10.50]\n",
    "total = sum(prices)\n",
    "average = total/len(prices)\n",
    "print(\"Avarage of prices is\",average)"
   ]
  },
  {
   "cell_type": "code",
   "execution_count": null,
   "metadata": {},
   "outputs": [],
   "source": [
    "# calculate the average daily customers\n",
    "total = 0\n",
    "prices = [29, 21, 55, 5, 10, 14, 12]\n",
    "total = sum(prices)\n",
    "average = total/len(prices)\n",
    "print(\"Avarage of customers is\",average)"
   ]
  },
  {
   "cell_type": "code",
   "execution_count": null,
   "metadata": {},
   "outputs": [],
   "source": [
    "# calculate average daily sales"
   ]
  },
  {
   "cell_type": "markdown",
   "metadata": {},
   "source": [
    "**Problem: We are repeating a lot of code**\n",
    "wouldn't it be great to have just one piece of code that can average anythin we ask it to?\n",
    "**Funtions** perform specific tasks"
   ]
  },
  {
   "cell_type": "markdown",
   "metadata": {},
   "source": [
    "**Making our own functions**\n",
    "1. What is the function name?\n",
    "2. What data do we send into the function?\n",
    "3. What data comes out of the funtion?"
   ]
  },
  {
   "cell_type": "code",
   "execution_count": 2,
   "metadata": {},
   "outputs": [],
   "source": [
    "## we want a function that can average a list of numbers\n",
    "## we want to use our function for getting the average for other list of numbers, not just prices \n",
    "## for example we can use to pass in a list of daily sales  \n",
    "# therefore name our parameters to be more general\n",
    "def calc_avarage(numbers):\n",
    "    total = sum(numbers)\n",
    "    avg = total/len(numbers)\n",
    "    return avg"
   ]
  },
  {
   "cell_type": "markdown",
   "metadata": {},
   "source": [
    "**Calling functions**\n",
    "**Functions** don't run until we call them"
   ]
  },
  {
   "cell_type": "code",
   "execution_count": 3,
   "metadata": {},
   "outputs": [
    {
     "name": "stdout",
     "output_type": "stream",
     "text": [
      "3.0\n"
     ]
    }
   ],
   "source": [
    "## calling a funtions\n",
    "numbers = [1, 2, 3, 4, 5]\n",
    "avg = calc_avarage(numbers)\n",
    "print(avg)"
   ]
  },
  {
   "cell_type": "code",
   "execution_count": 4,
   "metadata": {},
   "outputs": [
    {
     "name": "stdout",
     "output_type": "stream",
     "text": [
      "3.75\n"
     ]
    }
   ],
   "source": [
    "# use our function on  prices\n",
    "prices = [2.50, 3, 4.5, 5]\n",
    "result = calc_avarage(prices)\n",
    "print(result)"
   ]
  },
  {
   "cell_type": "code",
   "execution_count": 5,
   "metadata": {},
   "outputs": [
    {
     "name": "stdout",
     "output_type": "stream",
     "text": [
      "[28, 3, 7, 29, 47]\n"
     ]
    }
   ],
   "source": [
    "## A fortune-teller robot wants us to create a function for generating lottery ticket numbers. \n",
    "## The code for generating lottery ticket numbers was already created, it prints out the numbers one by one\n",
    "import random\n",
    "lottery_tickets = []\n",
    "for i in range(5):\n",
    "    lottery_tickets.append(random.randint(1, 53)) \n",
    "print(lottery_tickets)"
   ]
  },
  {
   "cell_type": "code",
   "execution_count": 6,
   "metadata": {},
   "outputs": [],
   "source": [
    "## Instead of printing out the numbers one by one, our function will return a list of the numbers.\n",
    "import random\n",
    "def lotto_numbers():\n",
    "    # code in the function goes here\n",
    "    lottery_tickets = []\n",
    "\n",
    "    for i in range(5):\n",
    "        lottery_tickets.append(random.randint(1, 53))\n",
    "    return lottery_tickets"
   ]
  },
  {
   "cell_type": "code",
   "execution_count": 7,
   "metadata": {},
   "outputs": [
    {
     "name": "stdout",
     "output_type": "stream",
     "text": [
      "[45, 31, 6, 9, 40]\n"
     ]
    }
   ],
   "source": [
    "## main part of our program\n",
    "# calling lotto_numbers\n",
    "numbers = lotto_numbers()\n",
    "assert numbers and len(numbers) != 0, f'{numbers} must not be None or empty'\n",
    "print(numbers)"
   ]
  },
  {
   "cell_type": "markdown",
   "metadata": {},
   "source": [
    "We can think of the code that calls or executes our function as the **main** part of our program\n",
    "To be more organized, we can take our **main** program code and put it in a function called **main**\n",
    "then the only piece of code that is not in a function in our file will be one single call to main to kick off our program. This is a best practice in Python"
   ]
  },
  {
   "cell_type": "code",
   "execution_count": 8,
   "metadata": {},
   "outputs": [
    {
     "name": "stdout",
     "output_type": "stream",
     "text": [
      "28.75\n"
     ]
    }
   ],
   "source": [
    "## organize our main code into a main function\n",
    "\n",
    "def calc_avarage(numbers):\n",
    "    total = sum(numbers)\n",
    "    avg = total/len(numbers)\n",
    "    return avg\n",
    "\n",
    "def main():\n",
    "    prices = [29, 21, 55, 10]\n",
    "    result = calc_avarage(prices)\n",
    "    print(result)\n",
    "\n",
    "# all of execution starts here\n",
    "main()"
   ]
  },
  {
   "cell_type": "markdown",
   "metadata": {},
   "source": [
    "You need to be aware of **Scope**\n",
    "Scope determines what parts of your program can access certain variables\n",
    "If you declare a variable inside a function it only exists within that function or it has local scope\n",
    "Variables that are declared outside of a function have global scope, global scope means they can be accessed anywhere inside of the script\n",
    "But, variables still can't be used until they're declared."
   ]
  },
  {
   "cell_type": "markdown",
   "metadata": {},
   "source": [
    "**Functions should be used for any chunck of code that has specific purpose.**"
   ]
  },
  {
   "cell_type": "markdown",
   "metadata": {},
   "source": [
    "Things we want to do know\n",
    "1. Print or display the menu\n",
    "2. Take an order\n",
    "3. Calculate the total bill"
   ]
  },
  {
   "cell_type": "code",
   "execution_count": 7,
   "metadata": {},
   "outputs": [
    {
     "name": "stdout",
     "output_type": "stream",
     "text": [
      "dish 1: $0.50\n",
      "dish 2: $1.50\n",
      "dish 3: $5.00\n",
      "\n",
      "You ordered: ['dish 3', 'dish 1']\n",
      "\n",
      "Your total is: $ 5.50\n"
     ]
    }
   ],
   "source": [
    "def get_order(menu):\n",
    "    orders = []\n",
    "    order_input = input('what would you like to order? (Q to quit)\\n')\n",
    "    while order_input != 'Q':\n",
    "        if order_input in list(menu.keys()):\n",
    "            orders.append(order_input)\n",
    "        else:\n",
    "            # else let the customer know that the `Menu item does not exist`    \n",
    "            print('Dish does not exist')\n",
    "    \n",
    "        # See if the customer wants to order anything else `Anything else? (Q to Quit)`\n",
    "        order_input = input('Anything else? (Q to Quit)')\n",
    "    return orders\n",
    "## print the menu, prices with 2 decimal numbers\n",
    "def print_menu(menu):\n",
    "    for item, price in menu.items():\n",
    "        print(item,': $',format(price,'.2f'),sep='')\n",
    "\n",
    "## we need the list of orders and the menu to look up the price\n",
    "## sum up the total price and return the total bill\n",
    "def bill_total(orders, menu):\n",
    "    total = 0\n",
    "    for order in orders:\n",
    "        total += menu[order]\n",
    "    return total\n",
    "\n",
    "def main():\n",
    "    menu = { 'dish 1': 0.50, 'dish 2': 1.50, 'dish 3': 5 }\n",
    "    print_menu(menu)\n",
    "    orders = get_order(menu)\n",
    "    total = bill_total(orders, menu)\n",
    "    print(\"\\nYou ordered: \", orders,sep='')\n",
    "    print(\"\\nYour total is: $\", format(total, '.2f'))\n",
    "    \n",
    "\n",
    "main()"
   ]
  },
  {
   "cell_type": "markdown",
   "metadata": {},
   "source": [
    "**Guess the Number Function**"
   ]
  },
  {
   "cell_type": "code",
   "execution_count": 10,
   "metadata": {},
   "outputs": [
    {
     "name": "stdout",
     "output_type": "stream",
     "text": [
      "Lotto numbers:  [3, 22, 23, 48, 42] \n",
      "\n",
      "GUESSING GAME\n",
      "\n",
      "*************\n",
      "\n",
      "Number of gueses left:  3\n",
      "You loose!\n",
      " \n",
      "Random number:  4 \n",
      "Your number:  2\n",
      "\n",
      "------------\n",
      "\n",
      "Number of gueses left:  2\n",
      "You loose!\n",
      " \n",
      "Random number:  6 \n",
      "Your number:  3\n",
      "\n",
      "------------\n",
      "\n",
      "Number of gueses left:  1\n",
      "You loose!\n",
      " \n",
      "Random number:  1 \n",
      "Your number:  4\n",
      "\n",
      "------------\n",
      "\n"
     ]
    }
   ],
   "source": [
    "## The fortune-teller robot wants to be able to easily generate lotto numbers and also \n",
    "# play the guess the number game. \n",
    "# We'll improve the robot's program by moving the code we wrote previously for \n",
    "# the guess the number game into its own function.\n",
    "\n",
    "import random\n",
    "    \n",
    "def guessing_game():\n",
    "    game_guess_count = 3\n",
    "\n",
    "    print('GUESSING GAME\\n')\n",
    "    print('*************\\n')\n",
    "\n",
    "    while 0 < game_guess_count:\n",
    "        print('Number of gueses left: ', game_guess_count)\n",
    "        num = random.randint(1, 10)\n",
    "        guess = int(input('Guess a number between 1 and 10'))\n",
    "        if num == guess:\n",
    "            print('You win!\\n','\\nRandom number: ',num,'\\nYour number: ',guess)\n",
    "        else:\n",
    "            print('You loose!\\n','\\nRandom number: ',num,'\\nYour number: ',guess)\n",
    "        print('\\n------------\\n')\n",
    "        game_guess_count-=1\n",
    "\n",
    "def lotto_numbers():\n",
    "    lottery_tickets = []\n",
    "\n",
    "    for i in range(5):\n",
    "        lottery_tickets.append(random.randint(1, 53))\n",
    "    \n",
    "    return lottery_tickets\n",
    "  \n",
    "def main():\n",
    "    numbers = lotto_numbers()\n",
    "    print('Lotto numbers: ', numbers,'\\n')\n",
    "    guessing_game()\n",
    "    \n",
    "main()"
   ]
  },
  {
   "cell_type": "markdown",
   "metadata": {},
   "source": [
    "**User's Choice**\n",
    "1. At the beginning of main(), let's use input() to ask user whether they want to play the game or get lottery numbers. Ask them, 'Do you want to get lottery numbers (1) or play the game (2) or quit (Q)?' and assign it to the variable answer.\n",
    "2. Now, write a conditional to check if the variable answer is 1, and put the first set of code that grabs and prints lotto_numbers() inside of a block for that conditional.\n",
    "3. Next, expand upon that first conditional with an elif that checks if the variable answer is 2, and nest the guessing_game() function call inside of that elif.\n",
    "4. Finally, add an else condition that prints 'Toodles!' -- this will run if neither 1 or 2 is entered by the user."
   ]
  },
  {
   "cell_type": "code",
   "execution_count": 17,
   "metadata": {},
   "outputs": [
    {
     "name": "stdout",
     "output_type": "stream",
     "text": [
      "Lotto numbers:  [38, 6, 44, 14, 47] \n",
      "\n",
      "Lotto numbers:  [53, 15, 1, 31, 25] \n",
      "\n"
     ]
    }
   ],
   "source": [
    "## We want the fortune-teller robot to be able to ask the user if they want to play the guess the number game or if they want lottery numbers.\n",
    "\n",
    "import random\n",
    "    \n",
    "def guessing_game():\n",
    "    game_guess_count = 3\n",
    "\n",
    "    print('GUESSING GAME\\n')\n",
    "    print('*************\\n')\n",
    "\n",
    "    while 0 < game_guess_count:\n",
    "        print('Number of gueses left: ', game_guess_count)\n",
    "        num = random.randint(1, 10)\n",
    "        guess = int(input('Guess a number between 1 and 10'))\n",
    "        if num == guess:\n",
    "            print('You win!\\n','\\nRandom number: ',num,'\\nYour number: ',guess)\n",
    "        else:\n",
    "            print('You loose!\\n','\\nRandom number: ',num,'\\nYour number: ',guess)\n",
    "        print('\\n------------\\n')\n",
    "        game_guess_count-=1\n",
    "\n",
    "def lotto_numbers():\n",
    "    lottery_tickets = []\n",
    "\n",
    "    for i in range(5):\n",
    "        lottery_tickets.append(random.randint(1, 53))\n",
    "    \n",
    "    return lottery_tickets\n",
    "  \n",
    "def main():\n",
    "    user_choice = input('Do you want to get lottery numbers (1) or play the game (2) or quit (Q)?')\n",
    "    \n",
    "    while user_choice != 'Q':\n",
    "        if user_choice == '1':\n",
    "            numbers = lotto_numbers()\n",
    "            print('Lotto numbers: ', numbers,'\\n')\n",
    "        elif user_choice == '2':\n",
    "            guessing_game()\n",
    "        else:\n",
    "            print('Toodles!')\n",
    "\n",
    "        user_choice = input('Do you want to get lottery numbers (1) or play the game (2) or quit (Q)?')\n",
    "\n",
    "main()"
   ]
  }
 ],
 "metadata": {
  "kernelspec": {
   "display_name": "Python 3.9.13 64-bit (microsoft store)",
   "language": "python",
   "name": "python3"
  },
  "language_info": {
   "codemirror_mode": {
    "name": "ipython",
    "version": 3
   },
   "file_extension": ".py",
   "mimetype": "text/x-python",
   "name": "python",
   "nbconvert_exporter": "python",
   "pygments_lexer": "ipython3",
   "version": "3.9.13"
  },
  "orig_nbformat": 4,
  "vscode": {
   "interpreter": {
    "hash": "e5e6950e623d4582d624e135a1184e8efadbec668f85cbea1d2eb28257370c61"
   }
  }
 },
 "nbformat": 4,
 "nbformat_minor": 2
}
