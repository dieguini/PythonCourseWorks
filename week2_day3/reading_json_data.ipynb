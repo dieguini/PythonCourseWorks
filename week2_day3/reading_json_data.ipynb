{
 "cells": [
  {
   "cell_type": "markdown",
   "metadata": {},
   "source": [
    "**Problem:** \n",
    "\n",
    "We have data in json format in file **data.json**, and we want to read it into our system\n"
   ]
  },
  {
   "cell_type": "code",
   "execution_count": 39,
   "metadata": {},
   "outputs": [
    {
     "name": "stdout",
     "output_type": "stream",
     "text": [
      "<_io.TextIOWrapper name='data.json' mode='r' encoding='UTF-8'> <class '_io.TextIOWrapper'>\n",
      "{'coord': {'lon': -81.38, 'lat': 28.54}, 'weather': [{'id': 500, 'main': 'Rain', 'description': 'light rain', 'icon': '10d'}], 'base': 'stations', 'main': {'temp': 84.34, 'pressure': 1017, 'humidity': 70, 'temp_min': 82.04, 'temp_max': 86}, 'visibility': 11265, 'wind': {'speed': 5.82, 'deg': 90}, 'clouds': {'all': 40}, 'dt': 1537829220, 'sys': {'type': 1, 'id': 729, 'message': 0.0034, 'country': 'US', 'sunrise': 1537787727, 'sunset': 1537831106}, 'id': 4167147, 'name': 'Orlando', 'cod': 200} <class 'dict'>\n",
      "{'lon': -81.38, 'lat': 28.54} <class 'dict'>\n",
      "{} <class 'dict'>\n",
      "-81.38 <class 'float'>\n",
      "-81.38 <class 'float'>\n"
     ]
    }
   ],
   "source": [
    "import json\n",
    "\n",
    "# Open file\n",
    "file_name = \"data.json\"\n",
    "file = open(file_name, 'r')\n",
    "print(file, type(file))\n",
    "\n",
    "# Load file as JSON\n",
    "## pasamos la tuberia al archivo\n",
    "data = json.load(file)\n",
    "print(data, type(data))\n",
    "\n",
    "# do something with that data\n",
    "coord = data.get('coord') or {}\n",
    "print(coord, type(coord))\n",
    "\n",
    "coordx = data.get('coordx') or {}\n",
    "print(coordx, type(coordx))\n",
    "\n",
    "coord = data.get('coord') or {}\n",
    "lon = coord.get('lon')\n",
    "print(lon, type(lon))\n",
    "\n",
    "# lon = data['coord']['lonxxxx'] ### not safe way\n",
    "lon = (data.get('coord') or {}).get('lon')\n",
    "print(lon, type(lon))\n",
    "\n",
    "### decide how to use None lon value\n"
   ]
  },
  {
   "cell_type": "code",
   "execution_count": 36,
   "metadata": {},
   "outputs": [
    {
     "name": "stdout",
     "output_type": "stream",
     "text": [
      "<_io.TextIOWrapper name='data.json' mode='r' encoding='UTF-8'> <class '_io.TextIOWrapper'>\n",
      "{'coord': {'lon': -81.38, 'lat': 28.54}, 'weather': [{'id': 500, 'main': 'Rain', 'description': 'light rain', 'icon': '10d'}], 'base': 'stations', 'main': {'temp': 84.34, 'pressure': 1017, 'humidity': 70, 'temp_min': 82.04, 'temp_max': 86}, 'visibility': 11265, 'wind': {'speed': 5.82, 'deg': 90}, 'clouds': {'all': 40}, 'dt': 1537829220, 'sys': {'type': 1, 'id': 729, 'message': 0.0034, 'country': 'US', 'sunrise': 1537787727, 'sunset': 1537831106}, 'id': 4167147, 'name': 'Orlando', 'cod': 200} <class 'dict'>\n"
     ]
    }
   ],
   "source": [
    "import json\n",
    "\n",
    "# Open file\n",
    "file_name = \"data.json\"\n",
    "with open(file_name, 'r') as f:\n",
    "    print(f, type(f))\n",
    "\n",
    "    # Load file as JSON\n",
    "    ## pasamos la tuberia al archivo\n",
    "    data = json.load(f)\n",
    "    print(data, type(data))"
   ]
  },
  {
   "cell_type": "code",
   "execution_count": 11,
   "metadata": {},
   "outputs": [
    {
     "name": "stdout",
     "output_type": "stream",
     "text": [
      "{\"a\": 1, \"b\": 1} <class 'str'>\n",
      "{'a': 1, 'b': 1} <class 'dict'>\n",
      "1\n"
     ]
    }
   ],
   "source": [
    "## Load JSON string into JSON in-memory object\n",
    "import json\n",
    "\n",
    "## program receives an string : \n",
    "# from a webservice or query in database or reading file as text\n",
    "data = '{\"a\": 1, \"b\": 1}' # JSON compliant string\n",
    "\n",
    "print(data, type(data))\n",
    "\n",
    "# convert JSON string into in-memory JSON object\n",
    "\n",
    "json_data = json.loads(data) # takes a JSON complaint string and puts it into a JSON in-memory object (listas, dictionarios)\n",
    "print(json_data, type(json_data))\n",
    "\n",
    "print(json_data.get('a'))"
   ]
  },
  {
   "cell_type": "code",
   "execution_count": 13,
   "metadata": {},
   "outputs": [
    {
     "data": {
      "text/plain": [
       "datetime.datetime(2022, 9, 14, 9, 4, 1, 717808)"
      ]
     },
     "execution_count": 13,
     "metadata": {},
     "output_type": "execute_result"
    }
   ],
   "source": [
    "## generate number from current timestamp (fecha + hora + minuto + segundo + timezone, etc)\n",
    "import datetime\n",
    "\n",
    "datetime.datetime.now()"
   ]
  },
  {
   "cell_type": "code",
   "execution_count": 20,
   "metadata": {},
   "outputs": [
    {
     "name": "stdout",
     "output_type": "stream",
     "text": [
      "2022-09-14 09:09:18.337505 <class 'datetime.datetime'>\n",
      "09142022090918 <class 'str'>\n",
      "date and time: 09142022090918\n"
     ]
    }
   ],
   "source": [
    "from datetime import datetime # de la libreria datetime solo voy a importar el modulo \"datetime\"\n",
    "dt = datetime.now()\n",
    "print(dt, type(dt))\n",
    "\n",
    "#date_time = dt.strftime(\"%m/%d/%Y, %H:%M:%S\")\n",
    "date_time = dt.strftime(\"%m%d%Y%H%M%S\")\n",
    "print(date_time, type(date_time))\n",
    "print(\"date and time:\",date_time)\t"
   ]
  },
  {
   "cell_type": "code",
   "execution_count": 31,
   "metadata": {},
   "outputs": [
    {
     "name": "stdout",
     "output_type": "stream",
     "text": [
      "{\n",
      "    \"a\": \"9:00am\",\n",
      "    \"b\": \"9:00am\",\n",
      "    \"c\": \"9:00am\"\n",
      "} <class 'str'>\n"
     ]
    }
   ],
   "source": [
    "# write in-memory JSON object into a json file\n",
    "import json\n",
    "from datetime import datetime\n",
    "\n",
    "def write_file(filename, data):\n",
    "    with open(filename, 'w') as file:\n",
    "        file.write(data)\n",
    "\n",
    "def generate_filename(filename=\"schedules\", extension=\"json\"):\n",
    "    dt = datetime.now()\n",
    "    date_time_sufix = dt.strftime(\"%m%d%Y%H%M%S\")\n",
    "    return \"{}_{}.{}\".format(filename, date_time_sufix, extension)\n",
    "\n",
    "def main():\n",
    "    ### your program handles/generates in-memory object: list, dictionarios, [tuples, sets...]\n",
    "    schedules = {\n",
    "        'a': '9:00am',\n",
    "        'b': '9:00am',\n",
    "        'c': '9:00am'\n",
    "    }\n",
    "\n",
    "    data = json.dumps(schedules, indent = 4)\n",
    "    print(data, type(data))\n",
    "\n",
    "    filename = generate_filename(filename=\"my_file\")\n",
    "\n",
    "    write_file(filename, data)\n",
    "\n",
    "main()"
   ]
  }
 ],
 "metadata": {
  "kernelspec": {
   "display_name": "Python 3.9.13 64-bit (microsoft store)",
   "language": "python",
   "name": "python3"
  },
  "language_info": {
   "codemirror_mode": {
    "name": "ipython",
    "version": 3
   },
   "file_extension": ".py",
   "mimetype": "text/x-python",
   "name": "python",
   "nbconvert_exporter": "python",
   "pygments_lexer": "ipython3",
   "version": "3.9.13"
  },
  "orig_nbformat": 4,
  "vscode": {
   "interpreter": {
    "hash": "e5e6950e623d4582d624e135a1184e8efadbec668f85cbea1d2eb28257370c61"
   }
  }
 },
 "nbformat": 4,
 "nbformat_minor": 2
}
