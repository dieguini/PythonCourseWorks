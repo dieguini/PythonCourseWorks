{
 "cells": [
  {
   "cell_type": "markdown",
   "metadata": {},
   "source": [
    "**OpenWeatherMap.org** \n",
    "\n",
    "Provides an API for looking up weather forecasts. \n",
    "\n",
    "We'll use **requests** module to connect to their website's API and download the daily current temperature for the circus in Orlando, FL.\n",
    "\n",
    "The url we will use is http://api.openweathermap.org/data/2.5/weather?q=London&units=imperial&appid=67da29cb91129f1a68c1c06c1be92daa\n",
    "The first part connects to their API: http://api.openweathermap.org/data/2.5/weather. \n",
    "\n",
    "Then you can see we set q=London for the location, units=imperial for Fahrenheit, and finally we have an APPID=... which you can sign up for on their website if you have an app that's using their service."
   ]
  },
  {
   "cell_type": "code",
   "execution_count": 2,
   "metadata": {},
   "outputs": [
    {
     "name": "stdout",
     "output_type": "stream",
     "text": [
      "200\n",
      "{'coord': {'lon': -0.1257, 'lat': 51.5085}, 'weather': [{'id': 804, 'main': 'Clouds', 'description': 'overcast clouds', 'icon': '04n'}], 'base': 'stations', 'main': {'temp': 54.88, 'feels_like': 53.46, 'temp_min': 51.46, 'temp_max': 57.25, 'pressure': 1015, 'humidity': 72}, 'visibility': 10000, 'wind': {'speed': 6.91, 'deg': 300}, 'clouds': {'all': 100}, 'dt': 1663290573, 'sys': {'type': 2, 'id': 2075535, 'country': 'GB', 'sunrise': 1663306606, 'sunset': 1663352059}, 'timezone': 3600, 'id': 2643743, 'name': 'London', 'cod': 200}\n"
     ]
    }
   ],
   "source": [
    "import requests\n",
    "## pip3 install requests\n",
    "\n",
    "APPID = '67da29cb91129f1a68c1c06c1be92daa' # use your own APPID\n",
    "CITY = 'London'\n",
    "URL = f\"http://api.openweathermap.org/data/2.5/weather?q={CITY}&units=imperial&appid={APPID}\"\n",
    "\n",
    "def get_weather_data():\n",
    "    # envia un HTTP GET al URL\n",
    "    response = requests.get(URL) # get devuelve un object (propiedades + metodos realizables en ese objeto)\n",
    "    # print(response, type(response))\n",
    "    http_response_code = response.status_code\n",
    "    data = response.json() # el metodo json() nos permite leer los datos de la response\n",
    "    return http_response_code, data\n",
    "\n",
    "\n",
    "def main():\n",
    "    response =  get_weather_data()\n",
    "    status_code, data =  response\n",
    "    print (status_code, data, sep='\\n')\n",
    "\n",
    "main()"
   ]
  },
  {
   "cell_type": "markdown",
   "metadata": {},
   "source": [
    "**Tasks**\n",
    "\n",
    "We're downloading the weather data in JSON format, which is a combination of lists and dictionaries. Let's print out the contents of weather_json and look for how we can access the temp key from the JSON.\n",
    "\n",
    "Take a look at the contents of the response.json file, which models the JSON response we would get from our api query. This dictionary is now stored in the weather_json variable. In the middle of the dictionary, there is a key called 'main'. The value assigned to 'main' is a dictionary containing temperature values. So let's first look up the key 'main' in our dictionary weather_json and assign it to the variable main_weather.\n",
    "\n",
    "Now we can get the current temperature by looking up the key 'temp' within main_weather and assign it to a variable named temp.\n",
    "\n",
    "Now let's print out: **The Circus's current temperature is** and append the temp value to the end of that sentence.\n",
    "Try out your program by pressing the Run button below the terminal (or entering python3 circus.py into the terminal)"
   ]
  },
  {
   "cell_type": "code",
   "execution_count": 14,
   "metadata": {},
   "outputs": [
    {
     "name": "stdout",
     "output_type": "stream",
     "text": [
      "Contents of data\n",
      " {'coord': {'lon': -0.1257, 'lat': 51.5085}, 'weather': [{'id': 804, 'main': 'Clouds', 'description': 'overcast clouds', 'icon': '04n'}], 'base': 'stations', 'main': {'temp': 54.81, 'feels_like': 53.37, 'temp_min': 50.23, 'temp_max': 57.25, 'pressure': 1015, 'humidity': 72}, 'visibility': 10000, 'wind': {'speed': 6.91, 'deg': 300}, 'clouds': {'all': 100}, 'dt': 1663291202, 'sys': {'type': 2, 'id': 2075535, 'country': 'GB', 'sunrise': 1663306606, 'sunset': 1663352059}, 'timezone': 3600, 'id': 2643743, 'name': 'London', 'cod': 200} \n",
      "\n",
      "Contents of main\n",
      " {'temp': 54.81, 'feels_like': 53.37, 'temp_min': 50.23, 'temp_max': 57.25, 'pressure': 1015, 'humidity': 72} \n",
      "\n",
      "Contents of main->temp\n",
      " 54.81 \n",
      "\n",
      "London current temperature is 54.81\n"
     ]
    }
   ],
   "source": [
    "import requests ## pip3 install requests\n",
    "\n",
    "APPID = '67da29cb91129f1a68c1c06c1be92daa'\n",
    "CITY = 'London'\n",
    "URL = f\"http://api.openweathermap.org/data/2.5/weather?q={CITY}&units=imperial&appid={APPID}\"\n",
    "\n",
    "def get_weather_data():\n",
    "    \"\"\"\n",
    "        Function that returns status code and JSON data\n",
    "    \"\"\"\n",
    "    response = requests.get(URL)\n",
    "    return response.status_code, response.json()\n",
    "\n",
    "\n",
    "def main():\n",
    "    response =  get_weather_data()\n",
    "    status_code, data =  response\n",
    "    # Access temp key from json\n",
    "    ## 'temp' key inside 'main\n",
    "    print('Contents of data\\n', data,'\\n')\n",
    "    main_weather = data.get('main')\n",
    "    print('Contents of main\\n', main_weather,'\\n')\n",
    "    temp = main_weather.get('temp')\n",
    "    print('Contents of main->temp\\n', temp,'\\n')\n",
    "\n",
    "    print(f'{CITY} current temperature is {temp}')\n",
    "main()"
   ]
  }
 ],
 "metadata": {
  "kernelspec": {
   "display_name": "Python 3.9.13 64-bit (microsoft store)",
   "language": "python",
   "name": "python3"
  },
  "language_info": {
   "codemirror_mode": {
    "name": "ipython",
    "version": 3
   },
   "file_extension": ".py",
   "mimetype": "text/x-python",
   "name": "python",
   "nbconvert_exporter": "python",
   "pygments_lexer": "ipython3",
   "version": "3.9.13"
  },
  "orig_nbformat": 4,
  "vscode": {
   "interpreter": {
    "hash": "e5e6950e623d4582d624e135a1184e8efadbec668f85cbea1d2eb28257370c61"
   }
  }
 },
 "nbformat": 4,
 "nbformat_minor": 2
}
